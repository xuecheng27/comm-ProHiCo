{
 "cells": [
  {
   "cell_type": "markdown",
   "metadata": {},
   "source": [
    "# igraph.clustering\n",
    "Clustering, VertexClustering are two data structures used to study communities."
   ]
  },
  {
   "cell_type": "code",
   "execution_count": 34,
   "metadata": {},
   "outputs": [
    {
     "name": "stdout",
     "output_type": "stream",
     "text": [
      "[0, 1, 2]\n",
      "[3, 4, 5]\n",
      "[6, 7, 8]\n",
      "[]\n",
      "[9, 10, 11]\n",
      "[0, 0, 0, 1, 1, 1, 2, 2, 2, 4, 4, 4]\n",
      "the number of clusters:  5\n",
      "0 1 2\n",
      "3 4 5\n",
      "6 7 8\n",
      "\n",
      "9 10 11\n",
      "[[0, 1, 2], [3, 4, 5], [6, 7, 8], [], [9, 10, 11]]\n"
     ]
    }
   ],
   "source": [
    "from igraph.clustering import Clustering\n",
    "\n",
    "# index\n",
    "cl = Clustering([0,0,0,1,1,1,2,2,2,4,4,4])\n",
    "print(cl[0])\n",
    "print(cl[1])\n",
    "print(cl[2])\n",
    "print(cl[3])\n",
    "print(cl[4])\n",
    "# print(cl[5]) IndexError: cluster index out of range; the number of clusters is 5\n",
    "print(cl.membership)\n",
    "print('the number of clusters: ', len(cl))\n",
    "\n",
    "for cluster in cl:\n",
    "    print(' '.join(str(idx) for idx in cluster))\n",
    "    \n",
    "print(list(cl))"
   ]
  },
  {
   "cell_type": "code",
   "execution_count": 13,
   "metadata": {},
   "outputs": [
    {
     "name": "stdout",
     "output_type": "stream",
     "text": [
      "3\n",
      "3\n",
      "3\n",
      "0\n",
      "3\n",
      "[3, 3, 3, 0, 3]\n",
      "[3, 0, 3]\n"
     ]
    }
   ],
   "source": [
    "# size\n",
    "print(cl.size(0))\n",
    "print(cl.size(1))\n",
    "print(cl.size(2))\n",
    "print(cl.size(3))\n",
    "print(cl.size(4))\n",
    "\n",
    "print(cl.sizes())\n",
    "print(cl.sizes(*[0,3,4]))"
   ]
  },
  {
   "cell_type": "code",
   "execution_count": 18,
   "metadata": {},
   "outputs": [
    {
     "name": "stdout",
     "output_type": "stream",
     "text": [
      "Clustering with 12 elements and 5 clusters \n",
      "\n",
      "Clustering with 12 elements and 5 clusters\n",
      "0, 1, 2\n",
      "3, 4, 5\n",
      "6, 7, 8\n",
      "\n",
      "9, 10, 11\n"
     ]
    }
   ],
   "source": [
    "# summary\n",
    "print(cl.summary(), '\\n')\n",
    "print(cl.summary(1))"
   ]
  },
  {
   "cell_type": "markdown",
   "metadata": {},
   "source": [
    "# Community detection algorithms\n",
    "- Fast greedy algorithm\n",
    "- Infomap algorithm\n",
    "- Newman's leading eigenvector method\n",
    "- Label propagation\n",
    "- Multilevel algorithm of Blondel et al.\n",
    "- Betweenness\n",
    "- Spin glass\n",
    "- Walk trap\n",
    "- Leiden"
   ]
  },
  {
   "cell_type": "markdown",
   "metadata": {},
   "source": [
    "## Fast greedy algorithm\n",
    "Greedy optimization of modularity\n",
    "\n",
    "This algorithm merges individual nodes into communities in a way that greedily maximizes the modularity score of the graph. It can be proven that if no merge can increase the current modularity score, the algorithm can be stopped since no further increase can be achieved.\n",
    "\n",
    "This algorithm is said to run almost in linear time on sparse graphs.\n",
    "```\n",
    "community_fastgreedy(self, weights=None)\n",
    "```\n",
    "`weights`: edge attribute name or a list containing edge weights\n",
    "\n",
    "Return: an appropriate `VertexDendrogram` object\n",
    "\n",
    "Reference: Finding community structure in very large networks"
   ]
  },
  {
   "cell_type": "code",
   "execution_count": 22,
   "metadata": {},
   "outputs": [
    {
     "name": "stdout",
     "output_type": "stream",
     "text": [
      "Clustering with 34 elements and 3 clusters\n",
      "0, 4, 5, 6, 10, 11, 16, 19\n",
      "1, 2, 3, 7, 9, 12, 13, 17, 21\n",
      "8, 14, 15, 18, 20, 22, 23, 24, 25, 26, 27, 28, 29, 30, 31, 32, 33\n"
     ]
    }
   ],
   "source": [
    "from igraph import Graph\n",
    "\n",
    "g = Graph.Famous('Zachary')\n",
    "cl = g.community_fastgreedy().as_clustering()\n",
    "print(cl.summary(1))"
   ]
  },
  {
   "cell_type": "markdown",
   "metadata": {},
   "source": [
    "## infomap algorithm\n",
    "Finds the community structure of the network according to the Infomap method of Martin Rosvall and Carl T. Bergstrom.\n",
    "```\n",
    "community_infomap(self, edge_weights=None, vertex_weights=None, trials=10)\n",
    "```\n",
    "`edge_weights`: name of an edge attribute or a list containing edge weights\n",
    "\n",
    "`vertex_weights`: name of an vertex attribute or a list containing vertex weights\n",
    "\n",
    "`trials`: the number of attempts to partition the network\n",
    "\n",
    "Returns: an appropriate `VertexClustering` object with an extra attribute called `codelength` that stores the code length determined by the algorithm.\n",
    "\n",
    "References: \n",
    "- Maps of information flow reveal community structure in complex networks\n",
    "- The map equation"
   ]
  },
  {
   "cell_type": "code",
   "execution_count": 23,
   "metadata": {},
   "outputs": [
    {
     "name": "stdout",
     "output_type": "stream",
     "text": [
      "Clustering with 34 elements and 3 clusters\n",
      "0, 1, 2, 3, 7, 9, 11, 12, 13, 17, 19, 21\n",
      "4, 5, 6, 10, 16\n",
      "8, 14, 15, 18, 20, 22, 23, 24, 25, 26, 27, 28, 29, 30, 31, 32, 33\n"
     ]
    }
   ],
   "source": [
    "from igraph import Graph\n",
    "\n",
    "g = Graph.Famous('Zachary')\n",
    "cl = g.community_infomap()\n",
    "print(cl.summary(1))"
   ]
  },
  {
   "cell_type": "markdown",
   "metadata": {},
   "source": [
    "## Newman's leading eigenvector method\n",
    "Newman's leading eigenvector method for detecting community structure. This is the proper implementation of the recursive, divisive algorithm: each split is done by maximizing the modularity regarding the original network.\n",
    "```\n",
    "community_leading_eigenvector(clusters=None, weights=None, arpack_options=None)\n",
    "```\n",
    "`clusters`: the desired number of communities. If `None`, the algorithm tries to do as many splits as possible. Note that the algorithm won't split a community further if the signs of the leading eigenvector are all the same, so the actual number of discovered communities can be less than the desired one.\n",
    "\n",
    "`weights`: name of an edge attribute or a list containing edge weights.\n",
    "\n",
    "`arpack_options`: an `ARPACKOptions` object used to fine-tune the ARPACK eigenvector calculation. If omitted, the module-level variable called `arpack_options` is used.\n",
    "\n",
    "Returns: an appropriate `VertexClustering` object.\n",
    "\n",
    "Reference: Finding community structure in networks using the eigenvectors of matrices."
   ]
  },
  {
   "cell_type": "code",
   "execution_count": 24,
   "metadata": {},
   "outputs": [
    {
     "name": "stdout",
     "output_type": "stream",
     "text": [
      "Clustering with 34 elements and 4 clusters\n",
      "0, 4, 5, 6, 10, 11, 16\n",
      "8, 9, 14, 15, 18, 20, 22, 26, 29, 30, 32, 33\n",
      "1, 2, 3, 7, 12, 13, 17, 19, 21\n",
      "23, 24, 25, 27, 28, 31\n"
     ]
    }
   ],
   "source": [
    "from igraph import Graph\n",
    "\n",
    "g = Graph.Famous('Zachary')\n",
    "cl = g.community_leading_eigenvector()\n",
    "print(cl.summary(1))"
   ]
  },
  {
   "cell_type": "markdown",
   "metadata": {},
   "source": [
    "## label propagation\n",
    "Finds the community structure of the graph according to the label propagation method of Raghavan et al. Initially, each vertex is assigned a different label. After that, each vertex chooses the dominant label in its neighborhood in each iteration. Ties are broken randomly and the order in which the vertices are updated is randomized before every iteration. The algorithm ends when vertices reach a consensus. Note that since ties are broken randomly, there is no guarantee that the algorithm returns the same community structure after each run. In fact, they frequently differ.\n",
    "```\n",
    "community_label_propagation(self, weights=None, initial=None, fixed=None)\n",
    "```\n",
    "- `weights`: name of an edge attribute or a list containing edge weights\n",
    "- `initial`: name of a vertex attribute or a list containing the initial vertex labels. Labels are identified by integers from zero to n-1 where n is the number of vertices. Negative numbers may also be present in this vector, they represent unlabeled vertices.\n",
    "- `fixed`: a list of booleans for each vertex. `True` corresponds to vertices whose labeling should not change during the algorithm. It only makes sense if initial labels are also given. Unlabeled vertices cannot be fixed.\n",
    "\n",
    "Returns: an appropriate `VertexClustering` object.\n",
    "\n",
    "Reference: Near linear time algorithm to detect community structures in large-scale networks."
   ]
  },
  {
   "cell_type": "code",
   "execution_count": 25,
   "metadata": {},
   "outputs": [
    {
     "name": "stdout",
     "output_type": "stream",
     "text": [
      "Clustering with 34 elements and 3 clusters\n",
      "0, 1, 2, 3, 7, 8, 11, 12, 13, 17, 19, 21, 24, 25, 27, 28, 30, 31\n",
      "4, 5, 6, 10, 16\n",
      "9, 14, 15, 18, 20, 22, 23, 26, 29, 32, 33\n"
     ]
    }
   ],
   "source": [
    "from igraph import Graph\n",
    "\n",
    "g = Graph.Famous('Zachary')\n",
    "cl = g.community_label_propagation()\n",
    "print(cl.summary(1))"
   ]
  },
  {
   "cell_type": "markdown",
   "metadata": {},
   "source": [
    "## Multilevel algorithm of Blondel et al.\n",
    "This is a bottom-up algorithm: initially every vertex belongs to a separate community, and vertices are moved between communities iteratively in a way that maximizes the vertices' local contribution to the overall modularity score. When a consensus is reached (i.e., no single move could increase the modularity score), every community in the original graph is shrank to a single vertex (while keeping the total weight of the adjacent edges) and the process continues on the next level. The algorithm stops when it is not possible to increase the modularity any more after shrinking the communities to vertices.\n",
    "\n",
    "This algorithm is said to run almost in linear time on sparse graphs.\n",
    "```\n",
    "community_multilevel(self, weights=None, return_levels=False)\n",
    "```\n",
    "- `weights`: edge attribute name or a list containing edge weights\n",
    "- `return_levels`: if `True`, the communities at each level are returned in a list. If `False`, only the community structure with the best modularity is returned\n",
    "\n",
    "Returns: a list of `VertexClustering` objects, one corresponding to each level (if `return_levels` is `True`), or a `VertexClustering` corresponding to the best modularity.\n",
    "\n",
    "Reference: Fast unfolding of community hierarchies in large networks."
   ]
  },
  {
   "cell_type": "code",
   "execution_count": 26,
   "metadata": {},
   "outputs": [
    {
     "name": "stdout",
     "output_type": "stream",
     "text": [
      "Clustering with 34 elements and 4 clusters\n",
      "0, 1, 2, 3, 7, 9, 11, 12, 13, 17, 19, 21\n",
      "4, 5, 6, 10, 16\n",
      "8, 14, 15, 18, 20, 22, 26, 29, 30, 32, 33\n",
      "23, 24, 25, 27, 28, 31\n"
     ]
    }
   ],
   "source": [
    "from igraph import Graph\n",
    "\n",
    "g = Graph.Famous('Zachary')\n",
    "cl = g.community_multilevel()\n",
    "print(cl.summary(1))"
   ]
  },
  {
   "cell_type": "markdown",
   "metadata": {},
   "source": [
    "## optimal modularity\n",
    "Calculates the optimal modularity score of the graph and the corresponding community structure.\n",
    "\n",
    "This function uses the GNU Linear Programming Kit to solve a large integer optimization problem in order to find the optimal modularity score and the corresponding community structure, therefore it is unlikely to work for graphs larger than a few (less than a hundred) vertices. Consider using one of the heuristic approaches instead if you have such a large graph.\n",
    "```\n",
    "community_optimal_modularity(self, *args, **kwds)\n",
    "```\n",
    "- `weights`: name of an edge attribute or a list containing edge weights.\n",
    "\n",
    "Returns: the calculated membership vector and the corresponding modularity in a tuple."
   ]
  },
  {
   "cell_type": "code",
   "execution_count": 27,
   "metadata": {},
   "outputs": [
    {
     "ename": "NotImplementedError",
     "evalue": "Error at c:\\projects\\python-igraph-jst2e\\vendor\\build\\igraph\\igraph-0.8.3-msvc\\src\\optimal_modularity.c:84: GLPK is not available, Unimplemented function call",
     "output_type": "error",
     "traceback": [
      "\u001b[1;31m---------------------------------------------------------------------------\u001b[0m",
      "\u001b[1;31mNotImplementedError\u001b[0m                       Traceback (most recent call last)",
      "\u001b[1;32m<ipython-input-27-f95f41106de1>\u001b[0m in \u001b[0;36m<module>\u001b[1;34m\u001b[0m\n\u001b[0;32m      2\u001b[0m \u001b[1;33m\u001b[0m\u001b[0m\n\u001b[0;32m      3\u001b[0m \u001b[0mg\u001b[0m \u001b[1;33m=\u001b[0m \u001b[0mGraph\u001b[0m\u001b[1;33m.\u001b[0m\u001b[0mFamous\u001b[0m\u001b[1;33m(\u001b[0m\u001b[1;34m'Zachary'\u001b[0m\u001b[1;33m)\u001b[0m\u001b[1;33m\u001b[0m\u001b[1;33m\u001b[0m\u001b[0m\n\u001b[1;32m----> 4\u001b[1;33m \u001b[0mresult\u001b[0m \u001b[1;33m=\u001b[0m \u001b[0mg\u001b[0m\u001b[1;33m.\u001b[0m\u001b[0mcommunity_optimal_modularity\u001b[0m\u001b[1;33m(\u001b[0m\u001b[1;33m)\u001b[0m\u001b[1;33m\u001b[0m\u001b[1;33m\u001b[0m\u001b[0m\n\u001b[0m",
      "\u001b[1;32m~\\anaconda3\\lib\\site-packages\\igraph\\__init__.py\u001b[0m in \u001b[0;36mcommunity_optimal_modularity\u001b[1;34m(self, *args, **kwds)\u001b[0m\n\u001b[0;32m   1302\u001b[0m           modularity in a tuple.\"\"\"\n\u001b[0;32m   1303\u001b[0m         \u001b[0mmembership\u001b[0m\u001b[1;33m,\u001b[0m \u001b[0mmodularity\u001b[0m \u001b[1;33m=\u001b[0m\u001b[0;31m \u001b[0m\u001b[0;31m\\\u001b[0m\u001b[1;33m\u001b[0m\u001b[1;33m\u001b[0m\u001b[0m\n\u001b[1;32m-> 1304\u001b[1;33m                 \u001b[0mGraphBase\u001b[0m\u001b[1;33m.\u001b[0m\u001b[0mcommunity_optimal_modularity\u001b[0m\u001b[1;33m(\u001b[0m\u001b[0mself\u001b[0m\u001b[1;33m,\u001b[0m \u001b[1;33m*\u001b[0m\u001b[0margs\u001b[0m\u001b[1;33m,\u001b[0m \u001b[1;33m**\u001b[0m\u001b[0mkwds\u001b[0m\u001b[1;33m)\u001b[0m\u001b[1;33m\u001b[0m\u001b[1;33m\u001b[0m\u001b[0m\n\u001b[0m\u001b[0;32m   1305\u001b[0m         \u001b[1;32mreturn\u001b[0m \u001b[0mVertexClustering\u001b[0m\u001b[1;33m(\u001b[0m\u001b[0mself\u001b[0m\u001b[1;33m,\u001b[0m \u001b[0mmembership\u001b[0m\u001b[1;33m,\u001b[0m \u001b[0mmodularity\u001b[0m\u001b[1;33m)\u001b[0m\u001b[1;33m\u001b[0m\u001b[1;33m\u001b[0m\u001b[0m\n\u001b[0;32m   1306\u001b[0m \u001b[1;33m\u001b[0m\u001b[0m\n",
      "\u001b[1;31mNotImplementedError\u001b[0m: Error at c:\\projects\\python-igraph-jst2e\\vendor\\build\\igraph\\igraph-0.8.3-msvc\\src\\optimal_modularity.c:84: GLPK is not available, Unimplemented function call"
     ]
    }
   ],
   "source": [
    "from igraph import Graph\n",
    "\n",
    "g = Graph.Famous('Zachary')\n",
    "result = g.community_optimal_modularity()"
   ]
  },
  {
   "cell_type": "markdown",
   "metadata": {},
   "source": [
    "## Betweenness\n",
    "Community structure based on the betweenness of the edges in the network.\n",
    "\n",
    "The idea is that the betweenness of the edges connecting two communities is typically high, as many of the shortest paths between nodes in separate communities go through them. So we gradually remove the edge with the highest betweenness and recalculate the betweenness after every removal. This way sooner or later the network falls of to separate components. The result of the clustering will be represented by a dendrogram.\n",
    "```\n",
    "community_edge_betweenness(self, clusters=None, directed=True, weights=None)\n",
    "```\n",
    "- `clusters`: the number of clusters we would like to see. This practically defines the \"level\" where we \"cut\" the dendrogram to get the membership vector of the vertices. If `None`, the dendrogram is cut at the level which maximizes the modularity when the graph is unweighted; otherwise the dendrogram is cut at a single cluster (because cluster count selection based on modularities does not make sense for this method if not all the weights are equal).\n",
    "- `directed`: whether the directionality of the edges should be taken into account or not.\n",
    "- `weights`: name of an edge attribute or a list containing edge weights.\n",
    "\n",
    "Returns: a `VertexDendrogram` object, initially cut at the maximum modularity or at the desired number of clusters."
   ]
  },
  {
   "cell_type": "code",
   "execution_count": 28,
   "metadata": {},
   "outputs": [
    {
     "name": "stdout",
     "output_type": "stream",
     "text": [
      "Clustering with 34 elements and 5 clusters\n",
      "0, 1, 3, 7, 11, 12, 13, 17, 19, 21\n",
      "2, 24, 25, 27, 28, 31\n",
      "4, 5, 6, 10, 16\n",
      "8, 14, 15, 18, 20, 22, 23, 26, 29, 30, 32, 33\n",
      "9\n"
     ]
    }
   ],
   "source": [
    "from igraph import Graph\n",
    "\n",
    "g = Graph.Famous('Zachary')\n",
    "cl = g.community_edge_betweenness(directed=False).as_clustering()\n",
    "print(cl.summary(1))"
   ]
  },
  {
   "cell_type": "markdown",
   "metadata": {},
   "source": [
    "## spin glass\n",
    "Finds the community structure of the graph according to the spinglass community detection method of Reichardt & Bornholdt.\n",
    "```\n",
    "community_spinglass(self, weights=None, spins=25, parupdate=False, start_temp=1, stop_temp=0.01, cool_fact=0.99, update_rule='config', gamma=1, implementation='orig', lambda_=1)\n",
    "```\n",
    "- `weights`: edge weights to be used. Can be a sequence or iterable or even an edge attribute name.\n",
    "- `spins`: integer, the number of spins to use. This is the upper limit for the number of communities. It is not a problem to supply a (reasonbly) big number here, in which case some spin states will be unpopulated.\n",
    "- `parupdate`: whether to update the spins of the vertices in parallel (synchronously) or not\n",
    "- `start_temp`: the starting temperature\n",
    "- `stop_temp`: the stop temperature\n",
    "- `cool_fact`: cooling factor for the simulated annealing\n",
    "- `update_rule`: specifies the null model of the simulation. Possible values are \"config\" (a random graph with the same vertex degrees as the input graph) or \"simple\" (a random graph with the same number of edges)\n",
    "- `gamma`: the gamma argument of the algorithm, specifying the balance between the importance of present and missing edges within a community. The default value of 1.0 assigns equal importance to both of them.\n",
    "- `implementation`: currently igraph contains two implementations of the spinglass community detection algorithm. The faster original implementation is the default. The other implementation is able to take into account negative weights, this can be chosen by setting `implementation` to \"neg\"\n",
    "- `lambda_`: the lambda argument of the algorithm, which specifies the balance between the importance of present and missing negatively weighted edges within a community. Smaller values of lambda lead to communities with less negative intra-connectivity. If the argument is zero, the algorithm reduces to a graph coloring algorithm, using the number of spins as colors. This argument is ignored if the original implementation is used. Note the underscore at the end of the argument name; this is due to the fact that lambda is a reserved keyword in Python.\n",
    "\n",
    "Returns: an appropriate `VertexClustering` object\n",
    "\n",
    "References:\n",
    "- Statistical mechanics of community detection\n",
    "- Community detection in networks with positive and negative links"
   ]
  },
  {
   "cell_type": "code",
   "execution_count": 29,
   "metadata": {},
   "outputs": [
    {
     "name": "stdout",
     "output_type": "stream",
     "text": [
      "Clustering with 34 elements and 4 clusters\n",
      "0, 1, 2, 3, 4, 7, 8, 9, 11, 12, 13, 14, 15, 17, 18, 19, 20, 21, 22, 26, 28, 29, 30, 32, 33\n",
      "23, 24\n",
      "25, 27, 31\n",
      "5, 6, 10, 16\n"
     ]
    }
   ],
   "source": [
    "from igraph import Graph\n",
    "\n",
    "g = Graph.Famous('Zachary')\n",
    "cl = g.community_spinglass(parupdate=True)\n",
    "print(cl.summary(1))"
   ]
  },
  {
   "cell_type": "markdown",
   "metadata": {},
   "source": [
    "## walktrap\n",
    "Community detection algorithm of Latapy & Pons, based on random walks.\n",
    "\n",
    "The basic idea of the algorithm is that short random walks tend to stay in the same community. The result of the clustering will be represented as a dendrogram.\n",
    "```\n",
    "community_walktrap(self, weights=None, steps=4)\n",
    "```\n",
    "- `weights`: name of an edge attribute or a list containing edge weights\n",
    "- `steps`: length of random walks to perform\n",
    "\n",
    "Returns: a `VertexDendrogram` object, initially cut at the maximum modularity.\n",
    "\n",
    "References: Computing communities in large networks using random walks"
   ]
  },
  {
   "cell_type": "code",
   "execution_count": 30,
   "metadata": {},
   "outputs": [
    {
     "name": "stdout",
     "output_type": "stream",
     "text": [
      "Clustering with 34 elements and 4 clusters\n",
      "0, 1, 2, 3, 7, 11, 12, 13, 17, 19, 21\n",
      "4, 5, 6, 10, 16\n",
      "8, 9, 14, 15, 18, 20, 22, 26, 29, 30, 32, 33\n",
      "23, 24, 25, 27, 28, 31\n"
     ]
    }
   ],
   "source": [
    "from igraph import Graph\n",
    "\n",
    "g = Graph.Famous('Zachary')\n",
    "cl = g.community_walktrap(steps=3).as_clustering()\n",
    "print(cl.summary(1))"
   ]
  },
  {
   "cell_type": "markdown",
   "metadata": {},
   "source": [
    "## leiden algorithm\n",
    "Finds the community structure of the graph using the Leiden algorithm of Traag, van Eck & Waltman.\n",
    "```\n",
    "community_leiden(objective_function=CPM, weights=None, resolution_parameter=1.0, beta=0.01, initial_membership=None, n_iterations=2, node_weights=None)\n",
    "```\n",
    "- `objective_function`: whether to use the Constant Potts Model (CPM) or modularity. Must be either \"CPM\" or \"modularity\".\n",
    "- `weights`: edge weights to be used. Can be a sequence or iterable or even an edge attribute name.\n",
    "- `resolution_parameter`: the resolution parameter to use. Higher resolutions lead to more smaller communities, while lower resolutions lead to fewer larger communities.\n",
    "- `beta`: parameter affecting the randomness in the Leiden algorithm. This affects only the refinement step of the algorithm.\n",
    "- `initial_membership`: if provided, the Leiden algorithm will try to improve this provided membership. If no argument is provided, the algorithm simply starts from the singleton partition.\n",
    "- `n_iterations`: the number of iterations to iterate the Leiden algorithm. Each iteration may improve the partition further.\n",
    "- `node_weights`: the node weights used in the Leiden algorithm. If this is not provided, it will be automatically determined on the basis of whether you want to use CPM or modularity. If you do provide this, please make sure you understand what you are doing.\n",
    "\n",
    "Returns: an appropriate `VertexClustering` object.\n",
    "\n",
    "Reference: From Louvain to Leiden: gauranteeing well-connected communities"
   ]
  },
  {
   "cell_type": "code",
   "execution_count": 32,
   "metadata": {},
   "outputs": [
    {
     "name": "stdout",
     "output_type": "stream",
     "text": [
      "Clustering with 34 elements and 4 clusters\n",
      "0, 1, 2, 3, 7, 11, 12, 13, 17, 19, 21\n",
      "4, 5, 6, 10, 16\n",
      "8, 9, 14, 15, 18, 20, 22, 26, 29, 30, 32, 33\n",
      "23, 24, 25, 27, 28, 31\n"
     ]
    }
   ],
   "source": [
    "from igraph import Graph\n",
    "\n",
    "g = Graph.Famous('Zachary')\n",
    "cl = g.community_leiden(objective_function='modularity')\n",
    "print(cl.summary(1))"
   ]
  }
 ],
 "metadata": {
  "kernelspec": {
   "display_name": "Python 3",
   "language": "python",
   "name": "python3"
  },
  "language_info": {
   "codemirror_mode": {
    "name": "ipython",
    "version": 3
   },
   "file_extension": ".py",
   "mimetype": "text/x-python",
   "name": "python",
   "nbconvert_exporter": "python",
   "pygments_lexer": "ipython3",
   "version": "3.8.5"
  }
 },
 "nbformat": 4,
 "nbformat_minor": 2
}
